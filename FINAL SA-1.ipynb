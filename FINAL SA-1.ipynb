{
 "cells": [
  {
   "cell_type": "code",
   "execution_count": 1,
   "metadata": {},
   "outputs": [],
   "source": [
    "import numpy as np\n",
    "import pandas as pd\n",
    "import matplotlib.pyplot as plt\n",
    "import sklearn\n",
    "import scipy\n",
    "import seaborn as sns"
   ]
  },
  {
   "cell_type": "code",
   "execution_count": 2,
   "metadata": {},
   "outputs": [],
   "source": [
    "df = pd.read_csv('fraudTrain_org.csv')\n",
    "pd.set_option(\"display.max_columns\", None) # display all columns"
   ]
  },
  {
   "cell_type": "code",
   "execution_count": 3,
   "metadata": {},
   "outputs": [
    {
     "data": {
      "text/html": [
       "<div>\n",
       "<style scoped>\n",
       "    .dataframe tbody tr th:only-of-type {\n",
       "        vertical-align: middle;\n",
       "    }\n",
       "\n",
       "    .dataframe tbody tr th {\n",
       "        vertical-align: top;\n",
       "    }\n",
       "\n",
       "    .dataframe thead th {\n",
       "        text-align: right;\n",
       "    }\n",
       "</style>\n",
       "<table border=\"1\" class=\"dataframe\">\n",
       "  <thead>\n",
       "    <tr style=\"text-align: right;\">\n",
       "      <th></th>\n",
       "      <th>Unnamed: 0</th>\n",
       "      <th>trans_date_trans_time</th>\n",
       "      <th>cc_num</th>\n",
       "      <th>merchant</th>\n",
       "      <th>category</th>\n",
       "      <th>amt</th>\n",
       "      <th>first</th>\n",
       "      <th>last</th>\n",
       "      <th>gender</th>\n",
       "      <th>street</th>\n",
       "      <th>city</th>\n",
       "      <th>state</th>\n",
       "      <th>zip</th>\n",
       "      <th>lat</th>\n",
       "      <th>long</th>\n",
       "      <th>city_pop</th>\n",
       "      <th>job</th>\n",
       "      <th>dob</th>\n",
       "      <th>trans_num</th>\n",
       "      <th>unix_time</th>\n",
       "      <th>merch_lat</th>\n",
       "      <th>merch_long</th>\n",
       "      <th>is_fraud</th>\n",
       "    </tr>\n",
       "  </thead>\n",
       "  <tbody>\n",
       "    <tr>\n",
       "      <th>0</th>\n",
       "      <td>0</td>\n",
       "      <td>2019-01-01 00:00:18</td>\n",
       "      <td>2703186189652095</td>\n",
       "      <td>fraud_Rippin, Kub and Mann</td>\n",
       "      <td>misc_net</td>\n",
       "      <td>4.97</td>\n",
       "      <td>Jennifer</td>\n",
       "      <td>Banks</td>\n",
       "      <td>F</td>\n",
       "      <td>561 Perry Cove</td>\n",
       "      <td>Moravian Falls</td>\n",
       "      <td>NC</td>\n",
       "      <td>28654</td>\n",
       "      <td>36.0788</td>\n",
       "      <td>-81.1781</td>\n",
       "      <td>3495</td>\n",
       "      <td>Psychologist, counselling</td>\n",
       "      <td>1988-03-09</td>\n",
       "      <td>0b242abb623afc578575680df30655b9</td>\n",
       "      <td>1325376018</td>\n",
       "      <td>36.011293</td>\n",
       "      <td>-82.048315</td>\n",
       "      <td>0</td>\n",
       "    </tr>\n",
       "    <tr>\n",
       "      <th>1</th>\n",
       "      <td>1</td>\n",
       "      <td>2019-01-01 00:00:44</td>\n",
       "      <td>630423337322</td>\n",
       "      <td>fraud_Heller, Gutmann and Zieme</td>\n",
       "      <td>grocery_pos</td>\n",
       "      <td>107.23</td>\n",
       "      <td>Stephanie</td>\n",
       "      <td>Gill</td>\n",
       "      <td>F</td>\n",
       "      <td>43039 Riley Greens Suite 393</td>\n",
       "      <td>Orient</td>\n",
       "      <td>WA</td>\n",
       "      <td>99160</td>\n",
       "      <td>48.8878</td>\n",
       "      <td>-118.2105</td>\n",
       "      <td>149</td>\n",
       "      <td>Special educational needs teacher</td>\n",
       "      <td>1978-06-21</td>\n",
       "      <td>1f76529f8574734946361c461b024d99</td>\n",
       "      <td>1325376044</td>\n",
       "      <td>49.159047</td>\n",
       "      <td>-118.186462</td>\n",
       "      <td>0</td>\n",
       "    </tr>\n",
       "    <tr>\n",
       "      <th>2</th>\n",
       "      <td>2</td>\n",
       "      <td>2019-01-01 00:00:51</td>\n",
       "      <td>38859492057661</td>\n",
       "      <td>fraud_Lind-Buckridge</td>\n",
       "      <td>entertainment</td>\n",
       "      <td>220.11</td>\n",
       "      <td>Edward</td>\n",
       "      <td>Sanchez</td>\n",
       "      <td>M</td>\n",
       "      <td>594 White Dale Suite 530</td>\n",
       "      <td>Malad City</td>\n",
       "      <td>ID</td>\n",
       "      <td>83252</td>\n",
       "      <td>42.1808</td>\n",
       "      <td>-112.2620</td>\n",
       "      <td>4154</td>\n",
       "      <td>Nature conservation officer</td>\n",
       "      <td>1962-01-19</td>\n",
       "      <td>a1a22d70485983eac12b5b88dad1cf95</td>\n",
       "      <td>1325376051</td>\n",
       "      <td>43.150704</td>\n",
       "      <td>-112.154481</td>\n",
       "      <td>0</td>\n",
       "    </tr>\n",
       "  </tbody>\n",
       "</table>\n",
       "</div>"
      ],
      "text/plain": [
       "   Unnamed: 0 trans_date_trans_time            cc_num  \\\n",
       "0           0   2019-01-01 00:00:18  2703186189652095   \n",
       "1           1   2019-01-01 00:00:44      630423337322   \n",
       "2           2   2019-01-01 00:00:51    38859492057661   \n",
       "\n",
       "                          merchant       category     amt      first     last  \\\n",
       "0       fraud_Rippin, Kub and Mann       misc_net    4.97   Jennifer    Banks   \n",
       "1  fraud_Heller, Gutmann and Zieme    grocery_pos  107.23  Stephanie     Gill   \n",
       "2             fraud_Lind-Buckridge  entertainment  220.11     Edward  Sanchez   \n",
       "\n",
       "  gender                        street            city state    zip      lat  \\\n",
       "0      F                561 Perry Cove  Moravian Falls    NC  28654  36.0788   \n",
       "1      F  43039 Riley Greens Suite 393          Orient    WA  99160  48.8878   \n",
       "2      M      594 White Dale Suite 530      Malad City    ID  83252  42.1808   \n",
       "\n",
       "       long  city_pop                                job         dob  \\\n",
       "0  -81.1781      3495          Psychologist, counselling  1988-03-09   \n",
       "1 -118.2105       149  Special educational needs teacher  1978-06-21   \n",
       "2 -112.2620      4154        Nature conservation officer  1962-01-19   \n",
       "\n",
       "                          trans_num   unix_time  merch_lat  merch_long  \\\n",
       "0  0b242abb623afc578575680df30655b9  1325376018  36.011293  -82.048315   \n",
       "1  1f76529f8574734946361c461b024d99  1325376044  49.159047 -118.186462   \n",
       "2  a1a22d70485983eac12b5b88dad1cf95  1325376051  43.150704 -112.154481   \n",
       "\n",
       "   is_fraud  \n",
       "0         0  \n",
       "1         0  \n",
       "2         0  "
      ]
     },
     "execution_count": 3,
     "metadata": {},
     "output_type": "execute_result"
    }
   ],
   "source": [
    "df.head(3)"
   ]
  },
  {
   "cell_type": "code",
   "execution_count": 4,
   "metadata": {},
   "outputs": [
    {
     "name": "stdout",
     "output_type": "stream",
     "text": [
      "<class 'pandas.core.frame.DataFrame'>\n",
      "RangeIndex: 1296675 entries, 0 to 1296674\n",
      "Data columns (total 23 columns):\n",
      " #   Column                 Non-Null Count    Dtype  \n",
      "---  ------                 --------------    -----  \n",
      " 0   Unnamed: 0             1296675 non-null  int64  \n",
      " 1   trans_date_trans_time  1296675 non-null  object \n",
      " 2   cc_num                 1296675 non-null  int64  \n",
      " 3   merchant               1296675 non-null  object \n",
      " 4   category               1296675 non-null  object \n",
      " 5   amt                    1296675 non-null  float64\n",
      " 6   first                  1296675 non-null  object \n",
      " 7   last                   1296675 non-null  object \n",
      " 8   gender                 1296675 non-null  object \n",
      " 9   street                 1296675 non-null  object \n",
      " 10  city                   1296675 non-null  object \n",
      " 11  state                  1296675 non-null  object \n",
      " 12  zip                    1296675 non-null  int64  \n",
      " 13  lat                    1296675 non-null  float64\n",
      " 14  long                   1296675 non-null  float64\n",
      " 15  city_pop               1296675 non-null  int64  \n",
      " 16  job                    1296675 non-null  object \n",
      " 17  dob                    1296675 non-null  object \n",
      " 18  trans_num              1296675 non-null  object \n",
      " 19  unix_time              1296675 non-null  int64  \n",
      " 20  merch_lat              1296675 non-null  float64\n",
      " 21  merch_long             1296675 non-null  float64\n",
      " 22  is_fraud               1296675 non-null  int64  \n",
      "dtypes: float64(5), int64(6), object(12)\n",
      "memory usage: 227.5+ MB\n"
     ]
    }
   ],
   "source": [
    "df.info()"
   ]
  },
  {
   "cell_type": "code",
   "execution_count": 5,
   "metadata": {
    "collapsed": true
   },
   "outputs": [
    {
     "data": {
      "text/plain": [
       "Unnamed: 0               0\n",
       "trans_date_trans_time    0\n",
       "cc_num                   0\n",
       "merchant                 0\n",
       "category                 0\n",
       "amt                      0\n",
       "first                    0\n",
       "last                     0\n",
       "gender                   0\n",
       "street                   0\n",
       "city                     0\n",
       "state                    0\n",
       "zip                      0\n",
       "lat                      0\n",
       "long                     0\n",
       "city_pop                 0\n",
       "job                      0\n",
       "dob                      0\n",
       "trans_num                0\n",
       "unix_time                0\n",
       "merch_lat                0\n",
       "merch_long               0\n",
       "is_fraud                 0\n",
       "dtype: int64"
      ]
     },
     "execution_count": 5,
     "metadata": {},
     "output_type": "execute_result"
    }
   ],
   "source": [
    "df.isna().sum() # check for missing data"
   ]
  },
  {
   "cell_type": "code",
   "execution_count": 6,
   "metadata": {},
   "outputs": [
    {
     "name": "stdout",
     "output_type": "stream",
     "text": [
      "693\n",
      "983\n"
     ]
    }
   ],
   "source": [
    "print(len(df['merchant'].unique()))\n",
    "print(len(df['cc_num'].unique()))"
   ]
  },
  {
   "cell_type": "code",
   "execution_count": 8,
   "metadata": {},
   "outputs": [
    {
     "data": {
      "text/plain": [
       "0    1289169\n",
       "1       7506\n",
       "Name: is_fraud, dtype: int64"
      ]
     },
     "execution_count": 8,
     "metadata": {},
     "output_type": "execute_result"
    }
   ],
   "source": [
    "# Count values in 'is_fraud' attribute: 0 = non_fraud transaction, 1 = fraud transaction.\n",
    "df['is_fraud'].value_counts()"
   ]
  },
  {
   "cell_type": "code",
   "execution_count": 9,
   "metadata": {},
   "outputs": [
    {
     "name": "stdout",
     "output_type": "stream",
     "text": [
      "Frauds 0.58 % of the dataset\n"
     ]
    }
   ],
   "source": [
    "# Calculate percentage of fraud transactions\n",
    "print('Frauds', round(df['is_fraud'].value_counts()[1]/len(df) * 100,2), '% of the dataset')"
   ]
  },
  {
   "attachments": {},
   "cell_type": "markdown",
   "metadata": {},
   "source": [
    "Generate new features 'count_7_days' and 'count_30_days' corresponding to frequencies of transaction done in the last 7 and 30 days."
   ]
  },
  {
   "cell_type": "code",
   "execution_count": 20,
   "metadata": {},
   "outputs": [],
   "source": [
    "#to generate frequencies of transactions done in last 7/30days, I used pandas rolling function\n",
    "df['trans_date_trans_time'] = pd.to_datetime(df['trans_date_trans_time'])\n",
    "\n",
    "# Extract frequencies of transactions in last 7/30 days\n",
    "def last7DaysTransactionCount(x):\n",
    "    temp = pd.Series(x.index, index = x.trans_date_trans_time, name='count_7_days').sort_index()\n",
    "    count_7_days = temp.rolling('7d').count() - 1\n",
    "    count_7_days.index = temp.values\n",
    "    x['count_7_days'] = count_7_days.reindex(x.index)\n",
    "    return x\n",
    "def last30DaysTransactionCount(x):\n",
    "    temp = pd.Series(x.index, index = x.trans_date_trans_time, name='count_30_days').sort_index()\n",
    "    count_30_days = temp.rolling('30d').count() - 1\n",
    "    count_30_days.index = temp.values\n",
    "    x['count_30_days'] = count_30_days.reindex(x.index)\n",
    "    return x"
   ]
  },
  {
   "cell_type": "code",
   "execution_count": 21,
   "metadata": {},
   "outputs": [],
   "source": [
    "df_new = df.groupby('cc_num').apply(last7DaysTransactionCount)"
   ]
  },
  {
   "cell_type": "code",
   "execution_count": 22,
   "metadata": {},
   "outputs": [],
   "source": [
    "df_new = df_new.groupby('cc_num').apply(last30DaysTransactionCount)"
   ]
  },
  {
   "cell_type": "code",
   "execution_count": 23,
   "metadata": {},
   "outputs": [
    {
     "data": {
      "text/html": [
       "<div>\n",
       "<style scoped>\n",
       "    .dataframe tbody tr th:only-of-type {\n",
       "        vertical-align: middle;\n",
       "    }\n",
       "\n",
       "    .dataframe tbody tr th {\n",
       "        vertical-align: top;\n",
       "    }\n",
       "\n",
       "    .dataframe thead th {\n",
       "        text-align: right;\n",
       "    }\n",
       "</style>\n",
       "<table border=\"1\" class=\"dataframe\">\n",
       "  <thead>\n",
       "    <tr style=\"text-align: right;\">\n",
       "      <th></th>\n",
       "      <th>Unnamed: 0</th>\n",
       "      <th>trans_date_trans_time</th>\n",
       "      <th>cc_num</th>\n",
       "      <th>merchant</th>\n",
       "      <th>category</th>\n",
       "      <th>amt</th>\n",
       "      <th>first</th>\n",
       "      <th>last</th>\n",
       "      <th>gender</th>\n",
       "      <th>street</th>\n",
       "      <th>city</th>\n",
       "      <th>state</th>\n",
       "      <th>zip</th>\n",
       "      <th>lat</th>\n",
       "      <th>long</th>\n",
       "      <th>city_pop</th>\n",
       "      <th>job</th>\n",
       "      <th>dob</th>\n",
       "      <th>trans_num</th>\n",
       "      <th>unix_time</th>\n",
       "      <th>merch_lat</th>\n",
       "      <th>merch_long</th>\n",
       "      <th>is_fraud</th>\n",
       "      <th>count_7_days</th>\n",
       "      <th>count_30_days</th>\n",
       "    </tr>\n",
       "  </thead>\n",
       "  <tbody>\n",
       "    <tr>\n",
       "      <th>0</th>\n",
       "      <td>0</td>\n",
       "      <td>2019-01-01 00:00:18</td>\n",
       "      <td>2703186189652095</td>\n",
       "      <td>fraud_Rippin, Kub and Mann</td>\n",
       "      <td>misc_net</td>\n",
       "      <td>4.97</td>\n",
       "      <td>Jennifer</td>\n",
       "      <td>Banks</td>\n",
       "      <td>F</td>\n",
       "      <td>561 Perry Cove</td>\n",
       "      <td>Moravian Falls</td>\n",
       "      <td>NC</td>\n",
       "      <td>28654</td>\n",
       "      <td>36.0788</td>\n",
       "      <td>-81.1781</td>\n",
       "      <td>3495</td>\n",
       "      <td>Psychologist, counselling</td>\n",
       "      <td>1988-03-09</td>\n",
       "      <td>0b242abb623afc578575680df30655b9</td>\n",
       "      <td>1325376018</td>\n",
       "      <td>36.011293</td>\n",
       "      <td>-82.048315</td>\n",
       "      <td>0</td>\n",
       "      <td>0.0</td>\n",
       "      <td>0.0</td>\n",
       "    </tr>\n",
       "    <tr>\n",
       "      <th>1</th>\n",
       "      <td>1</td>\n",
       "      <td>2019-01-01 00:00:44</td>\n",
       "      <td>630423337322</td>\n",
       "      <td>fraud_Heller, Gutmann and Zieme</td>\n",
       "      <td>grocery_pos</td>\n",
       "      <td>107.23</td>\n",
       "      <td>Stephanie</td>\n",
       "      <td>Gill</td>\n",
       "      <td>F</td>\n",
       "      <td>43039 Riley Greens Suite 393</td>\n",
       "      <td>Orient</td>\n",
       "      <td>WA</td>\n",
       "      <td>99160</td>\n",
       "      <td>48.8878</td>\n",
       "      <td>-118.2105</td>\n",
       "      <td>149</td>\n",
       "      <td>Special educational needs teacher</td>\n",
       "      <td>1978-06-21</td>\n",
       "      <td>1f76529f8574734946361c461b024d99</td>\n",
       "      <td>1325376044</td>\n",
       "      <td>49.159047</td>\n",
       "      <td>-118.186462</td>\n",
       "      <td>0</td>\n",
       "      <td>0.0</td>\n",
       "      <td>0.0</td>\n",
       "    </tr>\n",
       "    <tr>\n",
       "      <th>2</th>\n",
       "      <td>2</td>\n",
       "      <td>2019-01-01 00:00:51</td>\n",
       "      <td>38859492057661</td>\n",
       "      <td>fraud_Lind-Buckridge</td>\n",
       "      <td>entertainment</td>\n",
       "      <td>220.11</td>\n",
       "      <td>Edward</td>\n",
       "      <td>Sanchez</td>\n",
       "      <td>M</td>\n",
       "      <td>594 White Dale Suite 530</td>\n",
       "      <td>Malad City</td>\n",
       "      <td>ID</td>\n",
       "      <td>83252</td>\n",
       "      <td>42.1808</td>\n",
       "      <td>-112.2620</td>\n",
       "      <td>4154</td>\n",
       "      <td>Nature conservation officer</td>\n",
       "      <td>1962-01-19</td>\n",
       "      <td>a1a22d70485983eac12b5b88dad1cf95</td>\n",
       "      <td>1325376051</td>\n",
       "      <td>43.150704</td>\n",
       "      <td>-112.154481</td>\n",
       "      <td>0</td>\n",
       "      <td>0.0</td>\n",
       "      <td>0.0</td>\n",
       "    </tr>\n",
       "  </tbody>\n",
       "</table>\n",
       "</div>"
      ],
      "text/plain": [
       "   Unnamed: 0 trans_date_trans_time            cc_num  \\\n",
       "0           0   2019-01-01 00:00:18  2703186189652095   \n",
       "1           1   2019-01-01 00:00:44      630423337322   \n",
       "2           2   2019-01-01 00:00:51    38859492057661   \n",
       "\n",
       "                          merchant       category     amt      first     last  \\\n",
       "0       fraud_Rippin, Kub and Mann       misc_net    4.97   Jennifer    Banks   \n",
       "1  fraud_Heller, Gutmann and Zieme    grocery_pos  107.23  Stephanie     Gill   \n",
       "2             fraud_Lind-Buckridge  entertainment  220.11     Edward  Sanchez   \n",
       "\n",
       "  gender                        street            city state    zip      lat  \\\n",
       "0      F                561 Perry Cove  Moravian Falls    NC  28654  36.0788   \n",
       "1      F  43039 Riley Greens Suite 393          Orient    WA  99160  48.8878   \n",
       "2      M      594 White Dale Suite 530      Malad City    ID  83252  42.1808   \n",
       "\n",
       "       long  city_pop                                job         dob  \\\n",
       "0  -81.1781      3495          Psychologist, counselling  1988-03-09   \n",
       "1 -118.2105       149  Special educational needs teacher  1978-06-21   \n",
       "2 -112.2620      4154        Nature conservation officer  1962-01-19   \n",
       "\n",
       "                          trans_num   unix_time  merch_lat  merch_long  \\\n",
       "0  0b242abb623afc578575680df30655b9  1325376018  36.011293  -82.048315   \n",
       "1  1f76529f8574734946361c461b024d99  1325376044  49.159047 -118.186462   \n",
       "2  a1a22d70485983eac12b5b88dad1cf95  1325376051  43.150704 -112.154481   \n",
       "\n",
       "   is_fraud  count_7_days  count_30_days  \n",
       "0         0           0.0            0.0  \n",
       "1         0           0.0            0.0  \n",
       "2         0           0.0            0.0  "
      ]
     },
     "execution_count": 23,
     "metadata": {},
     "output_type": "execute_result"
    }
   ],
   "source": [
    "df_new.head(3)"
   ]
  },
  {
   "cell_type": "markdown",
   "metadata": {},
   "source": [
    "UNDERSAMPLING DATASET"
   ]
  },
  {
   "cell_type": "code",
   "execution_count": 46,
   "metadata": {},
   "outputs": [
    {
     "data": {
      "text/html": [
       "<div>\n",
       "<style scoped>\n",
       "    .dataframe tbody tr th:only-of-type {\n",
       "        vertical-align: middle;\n",
       "    }\n",
       "\n",
       "    .dataframe tbody tr th {\n",
       "        vertical-align: top;\n",
       "    }\n",
       "\n",
       "    .dataframe thead th {\n",
       "        text-align: right;\n",
       "    }\n",
       "</style>\n",
       "<table border=\"1\" class=\"dataframe\">\n",
       "  <thead>\n",
       "    <tr style=\"text-align: right;\">\n",
       "      <th></th>\n",
       "      <th>Unnamed: 0</th>\n",
       "      <th>trans_date_trans_time</th>\n",
       "      <th>cc_num</th>\n",
       "      <th>merchant</th>\n",
       "      <th>category</th>\n",
       "      <th>amt</th>\n",
       "      <th>first</th>\n",
       "      <th>last</th>\n",
       "      <th>gender</th>\n",
       "      <th>street</th>\n",
       "      <th>city</th>\n",
       "      <th>state</th>\n",
       "      <th>zip</th>\n",
       "      <th>lat</th>\n",
       "      <th>long</th>\n",
       "      <th>city_pop</th>\n",
       "      <th>job</th>\n",
       "      <th>dob</th>\n",
       "      <th>trans_num</th>\n",
       "      <th>unix_time</th>\n",
       "      <th>merch_lat</th>\n",
       "      <th>merch_long</th>\n",
       "      <th>is_fraud</th>\n",
       "      <th>count_7_days</th>\n",
       "      <th>count_30_days</th>\n",
       "    </tr>\n",
       "  </thead>\n",
       "  <tbody>\n",
       "    <tr>\n",
       "      <th>1239072</th>\n",
       "      <td>1239072</td>\n",
       "      <td>2020-06-01 01:01:21</td>\n",
       "      <td>565399283797</td>\n",
       "      <td>fraud_Koepp-Witting</td>\n",
       "      <td>grocery_pos</td>\n",
       "      <td>312.81</td>\n",
       "      <td>Anthony</td>\n",
       "      <td>Allen</td>\n",
       "      <td>M</td>\n",
       "      <td>6993 Carr Lodge Apt. 311</td>\n",
       "      <td>Jordan Valley</td>\n",
       "      <td>OR</td>\n",
       "      <td>97910</td>\n",
       "      <td>42.8801</td>\n",
       "      <td>-117.281</td>\n",
       "      <td>641</td>\n",
       "      <td>Economist</td>\n",
       "      <td>1993-11-24</td>\n",
       "      <td>c48f2efccb689f2daef9ebdb03e1edec</td>\n",
       "      <td>1370048481</td>\n",
       "      <td>42.663612</td>\n",
       "      <td>-117.720784</td>\n",
       "      <td>1</td>\n",
       "      <td>5.0</td>\n",
       "      <td>23.0</td>\n",
       "    </tr>\n",
       "  </tbody>\n",
       "</table>\n",
       "</div>"
      ],
      "text/plain": [
       "         Unnamed: 0 trans_date_trans_time        cc_num             merchant  \\\n",
       "1239072     1239072   2020-06-01 01:01:21  565399283797  fraud_Koepp-Witting   \n",
       "\n",
       "            category     amt    first   last gender                    street  \\\n",
       "1239072  grocery_pos  312.81  Anthony  Allen      M  6993 Carr Lodge Apt. 311   \n",
       "\n",
       "                  city state    zip      lat     long  city_pop        job  \\\n",
       "1239072  Jordan Valley    OR  97910  42.8801 -117.281       641  Economist   \n",
       "\n",
       "                dob                         trans_num   unix_time  merch_lat  \\\n",
       "1239072  1993-11-24  c48f2efccb689f2daef9ebdb03e1edec  1370048481  42.663612   \n",
       "\n",
       "         merch_long  is_fraud  count_7_days  count_30_days  \n",
       "1239072 -117.720784         1           5.0           23.0  "
      ]
     },
     "execution_count": 46,
     "metadata": {},
     "output_type": "execute_result"
    }
   ],
   "source": [
    "# Undersampling algorithm to generate smaller dataset with 50:50  distribution of fraud/non_fraud transactions\n",
    "\n",
    "fraud_df = df_new.loc[df_new['is_fraud'] == 1]\n",
    "non_fraud_df = df_new.loc[df_new['is_fraud'] == 0][:7506]  # since there are 7506 fraud transactions\n",
    "\n",
    "normal_distributed_df = pd.concat([fraud_df, non_fraud_df])\n",
    "\n",
    "# Shuffle dataframe rows\n",
    "sample_1 = normal_distributed_df.sample(frac=1, random_state=42)\n",
    "\n",
    "sample_1.head(1)"
   ]
  },
  {
   "cell_type": "code",
   "execution_count": 25,
   "metadata": {},
   "outputs": [],
   "source": [
    "sample_1.drop('Unnamed: 0', axis=1, inplace=True)"
   ]
  },
  {
   "cell_type": "code",
   "execution_count": 26,
   "metadata": {},
   "outputs": [
    {
     "data": {
      "text/html": [
       "<div>\n",
       "<style scoped>\n",
       "    .dataframe tbody tr th:only-of-type {\n",
       "        vertical-align: middle;\n",
       "    }\n",
       "\n",
       "    .dataframe tbody tr th {\n",
       "        vertical-align: top;\n",
       "    }\n",
       "\n",
       "    .dataframe thead th {\n",
       "        text-align: right;\n",
       "    }\n",
       "</style>\n",
       "<table border=\"1\" class=\"dataframe\">\n",
       "  <thead>\n",
       "    <tr style=\"text-align: right;\">\n",
       "      <th></th>\n",
       "      <th>trans_date_trans_time</th>\n",
       "      <th>cc_num</th>\n",
       "      <th>merchant</th>\n",
       "      <th>category</th>\n",
       "      <th>amt</th>\n",
       "      <th>first</th>\n",
       "      <th>last</th>\n",
       "      <th>gender</th>\n",
       "      <th>street</th>\n",
       "      <th>city</th>\n",
       "      <th>state</th>\n",
       "      <th>zip</th>\n",
       "      <th>lat</th>\n",
       "      <th>long</th>\n",
       "      <th>city_pop</th>\n",
       "      <th>job</th>\n",
       "      <th>dob</th>\n",
       "      <th>trans_num</th>\n",
       "      <th>unix_time</th>\n",
       "      <th>merch_lat</th>\n",
       "      <th>merch_long</th>\n",
       "      <th>is_fraud</th>\n",
       "      <th>count_7_days</th>\n",
       "      <th>count_30_days</th>\n",
       "    </tr>\n",
       "  </thead>\n",
       "  <tbody>\n",
       "    <tr>\n",
       "      <th>1239072</th>\n",
       "      <td>2020-06-01 01:01:21</td>\n",
       "      <td>565399283797</td>\n",
       "      <td>fraud_Koepp-Witting</td>\n",
       "      <td>grocery_pos</td>\n",
       "      <td>312.81</td>\n",
       "      <td>Anthony</td>\n",
       "      <td>Allen</td>\n",
       "      <td>M</td>\n",
       "      <td>6993 Carr Lodge Apt. 311</td>\n",
       "      <td>Jordan Valley</td>\n",
       "      <td>OR</td>\n",
       "      <td>97910</td>\n",
       "      <td>42.8801</td>\n",
       "      <td>-117.281</td>\n",
       "      <td>641</td>\n",
       "      <td>Economist</td>\n",
       "      <td>1993-11-24</td>\n",
       "      <td>c48f2efccb689f2daef9ebdb03e1edec</td>\n",
       "      <td>1370048481</td>\n",
       "      <td>42.663612</td>\n",
       "      <td>-117.720784</td>\n",
       "      <td>1</td>\n",
       "      <td>5.0</td>\n",
       "      <td>23.0</td>\n",
       "    </tr>\n",
       "  </tbody>\n",
       "</table>\n",
       "</div>"
      ],
      "text/plain": [
       "        trans_date_trans_time        cc_num             merchant     category  \\\n",
       "1239072   2020-06-01 01:01:21  565399283797  fraud_Koepp-Witting  grocery_pos   \n",
       "\n",
       "            amt    first   last gender                    street  \\\n",
       "1239072  312.81  Anthony  Allen      M  6993 Carr Lodge Apt. 311   \n",
       "\n",
       "                  city state    zip      lat     long  city_pop        job  \\\n",
       "1239072  Jordan Valley    OR  97910  42.8801 -117.281       641  Economist   \n",
       "\n",
       "                dob                         trans_num   unix_time  merch_lat  \\\n",
       "1239072  1993-11-24  c48f2efccb689f2daef9ebdb03e1edec  1370048481  42.663612   \n",
       "\n",
       "         merch_long  is_fraud  count_7_days  count_30_days  \n",
       "1239072 -117.720784         1           5.0           23.0  "
      ]
     },
     "execution_count": 26,
     "metadata": {},
     "output_type": "execute_result"
    }
   ],
   "source": [
    "sample_1.head(1)"
   ]
  },
  {
   "cell_type": "code",
   "execution_count": 29,
   "metadata": {},
   "outputs": [
    {
     "name": "stdout",
     "output_type": "stream",
     "text": [
      "<class 'pandas.core.frame.DataFrame'>\n",
      "Int64Index: 15012 entries, 1239072 to 1261427\n",
      "Data columns (total 24 columns):\n",
      " #   Column                 Non-Null Count  Dtype         \n",
      "---  ------                 --------------  -----         \n",
      " 0   trans_date_trans_time  15012 non-null  datetime64[ns]\n",
      " 1   cc_num                 15012 non-null  int64         \n",
      " 2   merchant               15012 non-null  object        \n",
      " 3   category               15012 non-null  object        \n",
      " 4   amt                    15012 non-null  float64       \n",
      " 5   first                  15012 non-null  object        \n",
      " 6   last                   15012 non-null  object        \n",
      " 7   gender                 15012 non-null  object        \n",
      " 8   street                 15012 non-null  object        \n",
      " 9   city                   15012 non-null  object        \n",
      " 10  state                  15012 non-null  object        \n",
      " 11  zip                    15012 non-null  int64         \n",
      " 12  lat                    15012 non-null  float64       \n",
      " 13  long                   15012 non-null  float64       \n",
      " 14  city_pop               15012 non-null  int64         \n",
      " 15  job                    15012 non-null  object        \n",
      " 16  dob                    15012 non-null  object        \n",
      " 17  trans_num              15012 non-null  object        \n",
      " 18  unix_time              15012 non-null  int64         \n",
      " 19  merch_lat              15012 non-null  float64       \n",
      " 20  merch_long             15012 non-null  float64       \n",
      " 21  is_fraud               15012 non-null  int64         \n",
      " 22  count_7_days           15012 non-null  float64       \n",
      " 23  count_30_days          15012 non-null  float64       \n",
      "dtypes: datetime64[ns](1), float64(7), int64(5), object(11)\n",
      "memory usage: 2.9+ MB\n"
     ]
    }
   ],
   "source": [
    "sample_1.info()"
   ]
  },
  {
   "cell_type": "code",
   "execution_count": 30,
   "metadata": {},
   "outputs": [
    {
     "data": {
      "text/plain": [
       "1    7506\n",
       "0    7506\n",
       "Name: is_fraud, dtype: int64"
      ]
     },
     "execution_count": 30,
     "metadata": {},
     "output_type": "execute_result"
    }
   ],
   "source": [
    "sample_1['is_fraud'].value_counts()"
   ]
  },
  {
   "cell_type": "code",
   "execution_count": 27,
   "metadata": {},
   "outputs": [],
   "source": [
    "# save sample_1 df to a csv file\n",
    "sample_1.to_csv(\"Final_sample_1.csv\", index=False)"
   ]
  },
  {
   "cell_type": "code",
   "execution_count": 28,
   "metadata": {},
   "outputs": [
    {
     "data": {
      "text/plain": [
       "4054705"
      ]
     },
     "execution_count": 28,
     "metadata": {},
     "output_type": "execute_result"
    }
   ],
   "source": [
    "# Clean \"sample_1\" from special characters that prevented it to be run in Weka.\n",
    "\n",
    "import re\n",
    "new_str = ''\n",
    "string = open('Final_sample_1.csv').read()\n",
    "new_str = re.sub('[^a-zA-Z0-9\\n\\,\\-\\:\\\"\\. ]', ' ', string) #Replace all special characters in the list with ' '\n",
    "open('Final_sample_1.csv', 'w').write(new_str.lower())"
   ]
  },
  {
   "cell_type": "code",
   "execution_count": 31,
   "metadata": {},
   "outputs": [],
   "source": [
    "df1= pd.read_csv('Final_sample_1.csv')"
   ]
  },
  {
   "cell_type": "code",
   "execution_count": 32,
   "metadata": {
    "collapsed": true
   },
   "outputs": [
    {
     "data": {
      "text/html": [
       "<div>\n",
       "<style scoped>\n",
       "    .dataframe tbody tr th:only-of-type {\n",
       "        vertical-align: middle;\n",
       "    }\n",
       "\n",
       "    .dataframe tbody tr th {\n",
       "        vertical-align: top;\n",
       "    }\n",
       "\n",
       "    .dataframe thead th {\n",
       "        text-align: right;\n",
       "    }\n",
       "</style>\n",
       "<table border=\"1\" class=\"dataframe\">\n",
       "  <thead>\n",
       "    <tr style=\"text-align: right;\">\n",
       "      <th></th>\n",
       "      <th>trans date trans time</th>\n",
       "      <th>cc num</th>\n",
       "      <th>merchant</th>\n",
       "      <th>category</th>\n",
       "      <th>amt</th>\n",
       "      <th>first</th>\n",
       "      <th>last</th>\n",
       "      <th>gender</th>\n",
       "      <th>street</th>\n",
       "      <th>city</th>\n",
       "      <th>state</th>\n",
       "      <th>zip</th>\n",
       "      <th>lat</th>\n",
       "      <th>long</th>\n",
       "      <th>city pop</th>\n",
       "      <th>job</th>\n",
       "      <th>dob</th>\n",
       "      <th>trans num</th>\n",
       "      <th>unix time</th>\n",
       "      <th>merch lat</th>\n",
       "      <th>merch long</th>\n",
       "      <th>is fraud</th>\n",
       "      <th>count 7 days</th>\n",
       "      <th>count 30 days</th>\n",
       "    </tr>\n",
       "  </thead>\n",
       "  <tbody>\n",
       "    <tr>\n",
       "      <th>0</th>\n",
       "      <td>2020-06-01 01:01:21</td>\n",
       "      <td>565399283797</td>\n",
       "      <td>fraud koepp-witting</td>\n",
       "      <td>grocery pos</td>\n",
       "      <td>312.81</td>\n",
       "      <td>anthony</td>\n",
       "      <td>allen</td>\n",
       "      <td>m</td>\n",
       "      <td>6993 carr lodge apt. 311</td>\n",
       "      <td>jordan valley</td>\n",
       "      <td>or</td>\n",
       "      <td>97910</td>\n",
       "      <td>42.8801</td>\n",
       "      <td>-117.281</td>\n",
       "      <td>641</td>\n",
       "      <td>economist</td>\n",
       "      <td>1993-11-24</td>\n",
       "      <td>c48f2efccb689f2daef9ebdb03e1edec</td>\n",
       "      <td>1370048481</td>\n",
       "      <td>42.663612</td>\n",
       "      <td>-117.720784</td>\n",
       "      <td>1</td>\n",
       "      <td>5.0</td>\n",
       "      <td>23.0</td>\n",
       "    </tr>\n",
       "  </tbody>\n",
       "</table>\n",
       "</div>"
      ],
      "text/plain": [
       "  trans date trans time        cc num             merchant     category  \\\n",
       "0   2020-06-01 01:01:21  565399283797  fraud koepp-witting  grocery pos   \n",
       "\n",
       "      amt    first   last gender                    street           city  \\\n",
       "0  312.81  anthony  allen      m  6993 carr lodge apt. 311  jordan valley   \n",
       "\n",
       "  state    zip      lat     long  city pop        job         dob  \\\n",
       "0    or  97910  42.8801 -117.281       641  economist  1993-11-24   \n",
       "\n",
       "                          trans num   unix time  merch lat  merch long  \\\n",
       "0  c48f2efccb689f2daef9ebdb03e1edec  1370048481  42.663612 -117.720784   \n",
       "\n",
       "   is fraud  count 7 days  count 30 days  \n",
       "0         1           5.0           23.0  "
      ]
     },
     "execution_count": 32,
     "metadata": {},
     "output_type": "execute_result"
    }
   ],
   "source": [
    "df1.head(1)"
   ]
  },
  {
   "cell_type": "code",
   "execution_count": 34,
   "metadata": {},
   "outputs": [],
   "source": [
    "# After attribute selection, drop not-interested attributes from dataframe\n",
    "# and keep only attributes interested (amount, trans date trans time, DOB, count 7 days, count 30 days, category, is fraud) into a new dataframe \n",
    "sample_2 = df1.drop(['cc num','merchant','first','last','street','city','state','zip', 'lat','long','city pop','job','trans num','unix time','merch lat','merch long','gender'], axis = 1)"
   ]
  },
  {
   "cell_type": "code",
   "execution_count": 35,
   "metadata": {
    "scrolled": true
   },
   "outputs": [
    {
     "data": {
      "text/html": [
       "<div>\n",
       "<style scoped>\n",
       "    .dataframe tbody tr th:only-of-type {\n",
       "        vertical-align: middle;\n",
       "    }\n",
       "\n",
       "    .dataframe tbody tr th {\n",
       "        vertical-align: top;\n",
       "    }\n",
       "\n",
       "    .dataframe thead th {\n",
       "        text-align: right;\n",
       "    }\n",
       "</style>\n",
       "<table border=\"1\" class=\"dataframe\">\n",
       "  <thead>\n",
       "    <tr style=\"text-align: right;\">\n",
       "      <th></th>\n",
       "      <th>trans date trans time</th>\n",
       "      <th>category</th>\n",
       "      <th>amt</th>\n",
       "      <th>dob</th>\n",
       "      <th>is fraud</th>\n",
       "      <th>count 7 days</th>\n",
       "      <th>count 30 days</th>\n",
       "    </tr>\n",
       "  </thead>\n",
       "  <tbody>\n",
       "    <tr>\n",
       "      <th>0</th>\n",
       "      <td>2020-06-01 01:01:21</td>\n",
       "      <td>grocery pos</td>\n",
       "      <td>312.81</td>\n",
       "      <td>1993-11-24</td>\n",
       "      <td>1</td>\n",
       "      <td>5.0</td>\n",
       "      <td>23.0</td>\n",
       "    </tr>\n",
       "    <tr>\n",
       "      <th>1</th>\n",
       "      <td>2019-09-12 12:49:41</td>\n",
       "      <td>misc net</td>\n",
       "      <td>909.75</td>\n",
       "      <td>1972-07-01</td>\n",
       "      <td>1</td>\n",
       "      <td>24.0</td>\n",
       "      <td>119.0</td>\n",
       "    </tr>\n",
       "  </tbody>\n",
       "</table>\n",
       "</div>"
      ],
      "text/plain": [
       "  trans date trans time     category     amt         dob  is fraud  \\\n",
       "0   2020-06-01 01:01:21  grocery pos  312.81  1993-11-24         1   \n",
       "1   2019-09-12 12:49:41     misc net  909.75  1972-07-01         1   \n",
       "\n",
       "   count 7 days  count 30 days  \n",
       "0           5.0           23.0  \n",
       "1          24.0          119.0  "
      ]
     },
     "execution_count": 35,
     "metadata": {},
     "output_type": "execute_result"
    }
   ],
   "source": [
    "sample_2.head(2)"
   ]
  },
  {
   "cell_type": "markdown",
   "metadata": {},
   "source": [
    "TRANSFORMATION ATTRIBUTES"
   ]
  },
  {
   "cell_type": "code",
   "execution_count": 38,
   "metadata": {},
   "outputs": [],
   "source": [
    "# Calculate age of users based on dob\n",
    "sample_2['dob'] = sample_2.dob.str.slice(0,4)\n",
    "#group year by tens\n",
    "def group_by_10s(mylist):\n",
    "    result = []\n",
    "    decade = -1\n",
    "    x = 0\n",
    "    for i in (mylist):\n",
    "        j = int(i)\n",
    "        x = 2022 - j\n",
    "        if x >= 80:\n",
    "            result.append('80')\n",
    "        elif x < 80 and x >= 70:\n",
    "            result.append('70')\n",
    "        elif x < 70 and x >= 60:\n",
    "            result.append('60')\n",
    "        elif x < 60 and x >= 50:\n",
    "            result.append('50')\n",
    "        elif x < 50 and x >= 40:\n",
    "            result.append('40')\n",
    "        elif x < 40 and x >= 30:\n",
    "            result.append('30')\n",
    "        elif x < 30 and x >= 20:\n",
    "            result.append('20')\n",
    "        else:\n",
    "            result.append('18')\n",
    "    return result\n",
    "\n",
    "sample_2['age'] = (group_by_10s(sample_2['dob']))"
   ]
  },
  {
   "cell_type": "code",
   "execution_count": 39,
   "metadata": {},
   "outputs": [
    {
     "data": {
      "text/html": [
       "<div>\n",
       "<style scoped>\n",
       "    .dataframe tbody tr th:only-of-type {\n",
       "        vertical-align: middle;\n",
       "    }\n",
       "\n",
       "    .dataframe tbody tr th {\n",
       "        vertical-align: top;\n",
       "    }\n",
       "\n",
       "    .dataframe thead th {\n",
       "        text-align: right;\n",
       "    }\n",
       "</style>\n",
       "<table border=\"1\" class=\"dataframe\">\n",
       "  <thead>\n",
       "    <tr style=\"text-align: right;\">\n",
       "      <th></th>\n",
       "      <th>trans date trans time</th>\n",
       "      <th>category</th>\n",
       "      <th>amt</th>\n",
       "      <th>dob</th>\n",
       "      <th>is fraud</th>\n",
       "      <th>count 7 days</th>\n",
       "      <th>count 30 days</th>\n",
       "      <th>age</th>\n",
       "    </tr>\n",
       "  </thead>\n",
       "  <tbody>\n",
       "    <tr>\n",
       "      <th>0</th>\n",
       "      <td>2020-06-01 01:01:21</td>\n",
       "      <td>grocery pos</td>\n",
       "      <td>312.81</td>\n",
       "      <td>1993</td>\n",
       "      <td>1</td>\n",
       "      <td>5.0</td>\n",
       "      <td>23.0</td>\n",
       "      <td>20</td>\n",
       "    </tr>\n",
       "    <tr>\n",
       "      <th>1</th>\n",
       "      <td>2019-09-12 12:49:41</td>\n",
       "      <td>misc net</td>\n",
       "      <td>909.75</td>\n",
       "      <td>1972</td>\n",
       "      <td>1</td>\n",
       "      <td>24.0</td>\n",
       "      <td>119.0</td>\n",
       "      <td>50</td>\n",
       "    </tr>\n",
       "  </tbody>\n",
       "</table>\n",
       "</div>"
      ],
      "text/plain": [
       "  trans date trans time     category     amt   dob  is fraud  count 7 days  \\\n",
       "0   2020-06-01 01:01:21  grocery pos  312.81  1993         1           5.0   \n",
       "1   2019-09-12 12:49:41     misc net  909.75  1972         1          24.0   \n",
       "\n",
       "   count 30 days age  \n",
       "0           23.0  20  \n",
       "1          119.0  50  "
      ]
     },
     "execution_count": 39,
     "metadata": {},
     "output_type": "execute_result"
    }
   ],
   "source": [
    "sample_2.head(2)"
   ]
  },
  {
   "cell_type": "code",
   "execution_count": 41,
   "metadata": {},
   "outputs": [],
   "source": [
    "# Transformation on 'trans date trans time'\n",
    "# Turn activity date to date/time object in python:\n",
    "sample_2['trans date trans time'] = pd.to_datetime(sample_2['trans date trans time'])\n",
    "\n",
    "# extract hour into new column 'hour'\n",
    "sample_2['hour'] = sample_2['trans date trans time'].dt.hour  \n",
    "\n",
    "# Group hour by 4\n",
    "sample_2[\"hour\"] = (sample_2[\"hour\"].replace([0,1,2,3], \"0-3\"))\n",
    "sample_2[\"hour\"] = (sample_2[\"hour\"].replace([4,5,6,7], \"4-7\"))\n",
    "sample_2[\"hour\"] = (sample_2[\"hour\"].replace([8,9,10,11], \"8-11\"))\n",
    "sample_2[\"hour\"] = (sample_2[\"hour\"].replace([12,13,14,15], \"12-15\"))\n",
    "sample_2[\"hour\"] = (sample_2[\"hour\"].replace([16,17,18,19], \"16-19\"))\n",
    "sample_2[\"hour\"] = (sample_2[\"hour\"].replace([20,21,22,23], \"20-23\"))"
   ]
  },
  {
   "cell_type": "code",
   "execution_count": 42,
   "metadata": {},
   "outputs": [
    {
     "data": {
      "text/html": [
       "<div>\n",
       "<style scoped>\n",
       "    .dataframe tbody tr th:only-of-type {\n",
       "        vertical-align: middle;\n",
       "    }\n",
       "\n",
       "    .dataframe tbody tr th {\n",
       "        vertical-align: top;\n",
       "    }\n",
       "\n",
       "    .dataframe thead th {\n",
       "        text-align: right;\n",
       "    }\n",
       "</style>\n",
       "<table border=\"1\" class=\"dataframe\">\n",
       "  <thead>\n",
       "    <tr style=\"text-align: right;\">\n",
       "      <th></th>\n",
       "      <th>trans date trans time</th>\n",
       "      <th>category</th>\n",
       "      <th>amt</th>\n",
       "      <th>dob</th>\n",
       "      <th>is fraud</th>\n",
       "      <th>count 7 days</th>\n",
       "      <th>count 30 days</th>\n",
       "      <th>age</th>\n",
       "      <th>hour</th>\n",
       "    </tr>\n",
       "  </thead>\n",
       "  <tbody>\n",
       "    <tr>\n",
       "      <th>0</th>\n",
       "      <td>2020-06-01 01:01:21</td>\n",
       "      <td>grocery pos</td>\n",
       "      <td>312.81</td>\n",
       "      <td>1993</td>\n",
       "      <td>1</td>\n",
       "      <td>5.0</td>\n",
       "      <td>23.0</td>\n",
       "      <td>20</td>\n",
       "      <td>0-3</td>\n",
       "    </tr>\n",
       "    <tr>\n",
       "      <th>1</th>\n",
       "      <td>2019-09-12 12:49:41</td>\n",
       "      <td>misc net</td>\n",
       "      <td>909.75</td>\n",
       "      <td>1972</td>\n",
       "      <td>1</td>\n",
       "      <td>24.0</td>\n",
       "      <td>119.0</td>\n",
       "      <td>50</td>\n",
       "      <td>12-15</td>\n",
       "    </tr>\n",
       "  </tbody>\n",
       "</table>\n",
       "</div>"
      ],
      "text/plain": [
       "  trans date trans time     category     amt   dob  is fraud  count 7 days  \\\n",
       "0   2020-06-01 01:01:21  grocery pos  312.81  1993         1           5.0   \n",
       "1   2019-09-12 12:49:41     misc net  909.75  1972         1          24.0   \n",
       "\n",
       "   count 30 days age   hour  \n",
       "0           23.0  20    0-3  \n",
       "1          119.0  50  12-15  "
      ]
     },
     "execution_count": 42,
     "metadata": {},
     "output_type": "execute_result"
    }
   ],
   "source": [
    "sample_2.head(2)"
   ]
  },
  {
   "cell_type": "code",
   "execution_count": 43,
   "metadata": {},
   "outputs": [],
   "source": [
    "sample_3 = sample_2.drop(['trans date trans time','dob'], axis=1)"
   ]
  },
  {
   "cell_type": "code",
   "execution_count": 47,
   "metadata": {},
   "outputs": [
    {
     "data": {
      "text/html": [
       "<div>\n",
       "<style scoped>\n",
       "    .dataframe tbody tr th:only-of-type {\n",
       "        vertical-align: middle;\n",
       "    }\n",
       "\n",
       "    .dataframe tbody tr th {\n",
       "        vertical-align: top;\n",
       "    }\n",
       "\n",
       "    .dataframe thead th {\n",
       "        text-align: right;\n",
       "    }\n",
       "</style>\n",
       "<table border=\"1\" class=\"dataframe\">\n",
       "  <thead>\n",
       "    <tr style=\"text-align: right;\">\n",
       "      <th></th>\n",
       "      <th>category</th>\n",
       "      <th>amt</th>\n",
       "      <th>is fraud</th>\n",
       "      <th>count 7 days</th>\n",
       "      <th>count 30 days</th>\n",
       "      <th>age</th>\n",
       "      <th>hour</th>\n",
       "    </tr>\n",
       "  </thead>\n",
       "  <tbody>\n",
       "    <tr>\n",
       "      <th>0</th>\n",
       "      <td>grocery pos</td>\n",
       "      <td>312.81</td>\n",
       "      <td>1</td>\n",
       "      <td>5.0</td>\n",
       "      <td>23.0</td>\n",
       "      <td>20</td>\n",
       "      <td>0-3</td>\n",
       "    </tr>\n",
       "    <tr>\n",
       "      <th>1</th>\n",
       "      <td>misc net</td>\n",
       "      <td>909.75</td>\n",
       "      <td>1</td>\n",
       "      <td>24.0</td>\n",
       "      <td>119.0</td>\n",
       "      <td>50</td>\n",
       "      <td>12-15</td>\n",
       "    </tr>\n",
       "  </tbody>\n",
       "</table>\n",
       "</div>"
      ],
      "text/plain": [
       "      category     amt  is fraud  count 7 days  count 30 days age   hour\n",
       "0  grocery pos  312.81         1           5.0           23.0  20    0-3\n",
       "1     misc net  909.75         1          24.0          119.0  50  12-15"
      ]
     },
     "execution_count": 47,
     "metadata": {},
     "output_type": "execute_result"
    }
   ],
   "source": [
    "sample_3.head(2)"
   ]
  },
  {
   "cell_type": "code",
   "execution_count": 45,
   "metadata": {},
   "outputs": [],
   "source": [
    "# save sample_3 df to a csv file\n",
    "sample_3.to_csv(\"Final_sample_3.csv\", index=False)"
   ]
  },
  {
   "cell_type": "code",
   "execution_count": 48,
   "metadata": {},
   "outputs": [
    {
     "data": {
      "text/plain": [
       "20-23    5433\n",
       "0-3      3493\n",
       "16-19    1877\n",
       "12-15    1847\n",
       "8-11     1198\n",
       "4-7      1164\n",
       "Name: hour, dtype: int64"
      ]
     },
     "execution_count": 48,
     "metadata": {},
     "output_type": "execute_result"
    }
   ],
   "source": [
    "# count numbers of transactions each 4 hours\n",
    "sample_3['hour'].value_counts() "
   ]
  },
  {
   "cell_type": "code",
   "execution_count": 51,
   "metadata": {},
   "outputs": [
    {
     "name": "stdout",
     "output_type": "stream",
     "text": [
      "[5433, 3493, 1877, 1847, 1198, 1164]\n"
     ]
    }
   ],
   "source": [
    "# put obtained values in a list (list_1)\n",
    "list_1 = sample_3['hour'].value_counts().to_list()\n",
    "print(list_1)"
   ]
  },
  {
   "cell_type": "code",
   "execution_count": 52,
   "metadata": {},
   "outputs": [
    {
     "data": {
      "text/plain": [
       "20-23    3971\n",
       "0-3      2527\n",
       "16-19     316\n",
       "12-15     312\n",
       "4-7       202\n",
       "8-11      178\n",
       "Name: hour, dtype: int64"
      ]
     },
     "execution_count": 52,
     "metadata": {},
     "output_type": "execute_result"
    }
   ],
   "source": [
    "# count numbers of fraud-transactions each 4 hours\n",
    "sample_3_fraud = sample_3[sample_3['is fraud'] == 1]\n",
    "sample_3_fraud['hour'].value_counts()"
   ]
  },
  {
   "cell_type": "code",
   "execution_count": 53,
   "metadata": {},
   "outputs": [
    {
     "name": "stdout",
     "output_type": "stream",
     "text": [
      "[3971, 2527, 316, 312, 202, 178]\n"
     ]
    }
   ],
   "source": [
    "# put obtained values in a list (list_2)\n",
    "list_2 = sample_3_fraud['hour'].value_counts().to_list()\n",
    "print(list_2)"
   ]
  },
  {
   "cell_type": "code",
   "execution_count": 54,
   "metadata": {},
   "outputs": [
    {
     "data": {
      "image/png": "[encoded data removed]",
      "text/plain": [
       "<Figure size 432x288 with 1 Axes>"
      ]
     },
     "metadata": {
      "needs_background": "light"
     },
     "output_type": "display_data"
    }
   ],
   "source": [
    "# BAR CHART - plt.bar(x,y) Number of total transaction and fraud transaction each 4 hours\n",
    "\n",
    "hour_x = ['20-23', '0-3','16-19', '12-15', '4-7', '8-11']\n",
    "x_indexes = np.arange(len(hour_x)) # arrange dif. bars\n",
    "width = 0.25 #(width of the bar and distances between bars)\n",
    "total_trans = list_1\n",
    "plt.bar(x_indexes - width, total_trans, width = width, label='total_trans')\n",
    "fraud_trans = list_2\n",
    "plt.bar(x_indexes, fraud_trans, width = width, label='fraud_trans')\n",
    "\n",
    "plt.xlabel('transaction time')\n",
    "plt.ylabel('Number of transaction')\n",
    "plt.title('Number of transaction in hour')\n",
    "plt.xticks(ticks = x_indexes, labels = hour_x) # make tick and label right value on x-ax (instead of index)\n",
    "plt.legend() # tell which line is which (add label to graph)\n",
    "plt.tight_layout()\n",
    "plt.show()"
   ]
  },
  {
   "cell_type": "code",
   "execution_count": null,
   "metadata": {},
   "outputs": [],
   "source": []
  }
 ],
 "metadata": {
  "kernelspec": {
   "display_name": "Python 3",
   "language": "python",
   "name": "python3"
  },
  "language_info": {
   "codemirror_mode": {
    "name": "ipython",
    "version": 3
   },
   "file_extension": ".py",
   "mimetype": "text/x-python",
   "name": "python",
   "nbconvert_exporter": "python",
   "pygments_lexer": "ipython3",
   "version": "3.8.3"
  }
 },
 "nbformat": 4,
 "nbformat_minor": 4
}
